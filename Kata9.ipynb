{
 "cells": [
  {
   "cell_type": "markdown",
   "metadata": {},
   "source": [
    "# Ejercicio: Uso de funciones Python"
   ]
  },
  {
   "cell_type": "markdown",
   "metadata": {},
   "source": [
    "Comienza por crear una función que necesite tres lecturas de combustible y devuelva un informe:"
   ]
  },
  {
   "cell_type": "code",
   "execution_count": 1,
   "metadata": {},
   "outputs": [],
   "source": [
    "# Función para leer 3 tanques de combustible y muestre el promedio\n",
    "\n",
    "def informe(tanque1, tanque2, tanque3):\n",
    "    total = (tanque1 + tanque2+ tanque3)/3\n",
    "    return f\"\"\"Fuel resport:\n",
    "    Total: {total}%\n",
    "    Tanque1: {tanque1}%\n",
    "    Tanque2: {tanque2}% \n",
    "    Tanque3: {tanque3}%\n",
    "    \"\"\" "
   ]
  },
  {
   "cell_type": "markdown",
   "metadata": {},
   "source": [
    "Ahora que hemos definido la función de informes, vamos a comprobarlo. Para esta misión, los tanques no están llenos:"
   ]
  },
  {
   "cell_type": "code",
   "execution_count": 4,
   "metadata": {},
   "outputs": [
    {
     "name": "stdout",
     "output_type": "stream",
     "text": [
      "Fuel resport:\n",
      "    Total: 68.33333333333333%\n",
      "    Tanque1: 60%\n",
      "    Tanque2: 50% \n",
      "    Tanque3: 95%\n",
      "    \n"
     ]
    }
   ],
   "source": [
    "# Llamamos a la función que genera el reporte print(funcion(tanque1, tanque2, tanque3))\n",
    "\n",
    "print (informe(60,50,95))"
   ]
  },
  {
   "cell_type": "markdown",
   "metadata": {},
   "source": [
    "En lugar de simplemente crear el informe, la función también está calculando el promedio. Mejora la legibilidad extrayendo el cálculo promedio de la función en una nueva función para que el promedio se pueda hacer de forma independiente:"
   ]
  },
  {
   "cell_type": "code",
   "execution_count": 9,
   "metadata": {},
   "outputs": [
    {
     "data": {
      "text/plain": [
       "82.0"
      ]
     },
     "execution_count": 9,
     "metadata": {},
     "output_type": "execute_result"
    }
   ],
   "source": [
    "# Función promedio \n",
    "\n",
    "def promedio(volumen):\n",
    "    total = sum(volumen)\n",
    "    tanques = len(volumen)\n",
    "    return total / tanques\n",
    "\n",
    "promedio([80,85,81])"
   ]
  },
  {
   "cell_type": "markdown",
   "metadata": {},
   "source": [
    "Ahora actualiza la función de informes para llamando a la nueva función del promedio:"
   ]
  },
  {
   "cell_type": "code",
   "execution_count": 12,
   "metadata": {},
   "outputs": [
    {
     "name": "stdout",
     "output_type": "stream",
     "text": [
      "Reporte de tanques:\n",
      "    Total: 78.66666666666667%\n",
      "    Tanque1: 78%\n",
      "    Tanque2: 88% \n",
      "    Tanque3: 70%\n",
      "    \n"
     ]
    }
   ],
   "source": [
    "# Actualiza la función\n",
    "def informe(tanque1, tanque2, tanque3):\n",
    "    total=promedio([tanque1,tanque2,tanque3])\n",
    "    return f\"\"\"Reporte de tanques:\n",
    "    Total: {total}%\n",
    "    Tanque1: {tanque1}%\n",
    "    Tanque2: {tanque2}% \n",
    "    Tanque3: {tanque3}%\n",
    "    \"\"\" \n",
    "\n",
    "print (informe(78,88,70))"
   ]
  },
  {
   "cell_type": "markdown",
   "metadata": {},
   "source": [
    "# Ejercicio 2: Trabajo con argumentos de palabra clave"
   ]
  },
  {
   "cell_type": "markdown",
   "metadata": {},
   "source": [
    "En este ejercicio, construirás un informe de cohete que requiere varias piezas de información, como el tiempo hasta el destino, el combustible a la izquierda y el nombre del destino. Comienza por crear una función que creará un informe preciso de la misión:"
   ]
  },
  {
   "cell_type": "code",
   "execution_count": 16,
   "metadata": {},
   "outputs": [
    {
     "name": "stdout",
     "output_type": "stream",
     "text": [
      "\n",
      "    Misión a: Marte\n",
      "    Tiempo de vuelo total: 31 \n",
      "    Combustible total restante: 5000\n",
      "    \n"
     ]
    }
   ],
   "source": [
    "# Función con un informe preciso de la misión. Considera hora de prelanzamiento, tiempo de vuelo, destino, tanque externo y tanque interno\n",
    "\n",
    "def informe_preciso (horaPrelanzamiento, tiempoVuelo, destino, tanqueExterno, tanqueInterno):\n",
    "    return f\"\"\"\n",
    "    Misión a: {destino}\n",
    "    Tiempo de vuelo total: {horaPrelanzamiento+tiempoVuelo} \n",
    "    Combustible total restante: {tanqueExterno + tanqueInterno}\n",
    "    \"\"\"\n",
    "\n",
    "print(informe_preciso(7,24,\"Marte\",2000,3000))\n"
   ]
  },
  {
   "cell_type": "markdown",
   "metadata": {},
   "source": [
    " Hazlo más flexible permitiendo cualquier número de pasos basados en el tiempo y cualquier número de tanques. En lugar de usar *args y **kwargs, aprovecha el hecho de que puedes usar cualquier nombre que desees. Asegurate que la función sea más legible mediante el uso de nombres de variables que están asociados con las entradas, como *minutes y **fuel_reservoirs:"
   ]
  },
  {
   "cell_type": "code",
   "execution_count": 17,
   "metadata": {},
   "outputs": [
    {
     "name": "stdout",
     "output_type": "stream",
     "text": [
      "\n",
      "    Misión a Marte\n",
      "    Tiempo total del viaje. 25 minutos\n",
      "    Total de combustible: 5000\n",
      "    \n"
     ]
    }
   ],
   "source": [
    "# Escribe tu nueva función de reporte considerando lo anterior\n",
    "def informe_preciso(destino, *minutos, **combustible):\n",
    "    return f\"\"\"\n",
    "    Misión a {destino}\n",
    "    Tiempo total del viaje. {sum(minutos)} minutos\n",
    "    Total de combustible: {sum(combustible.values())}\n",
    "    \"\"\"\n",
    "\n",
    "print(informe_preciso(\"Marte\",10, 15, interno=3000, externo=2000))"
   ]
  },
  {
   "cell_type": "markdown",
   "metadata": {},
   "source": [
    "Debido a que el combustible que queda en los tanques es específico de cada tanque, actualiza la función para usar el nombre de cada tanque en el informe:"
   ]
  },
  {
   "cell_type": "code",
   "execution_count": 26,
   "metadata": {},
   "outputs": [
    {
     "name": "stdout",
     "output_type": "stream",
     "text": [
      "\n",
      "    Misión a Marte\n",
      "    Tiempo total del viaje: 79 minutos\n",
      "    Total de combustible 50000\n",
      "    tanque interno  = 30000 litros\n",
      "    tanque externo  = 20000 litros\n",
      "    \n"
     ]
    }
   ],
   "source": [
    "# Escribe tu nueva función\n",
    "\n",
    "def informe_preciso(destino, *minutos, **combustible):\n",
    "    main_report = f\"\"\"\n",
    "    Misión a {destino}\n",
    "    Tiempo total del viaje: {sum(minutos)} minutos\n",
    "    Total de combustible {sum(combustible.values())}\n",
    "    \"\"\"\n",
    "\n",
    "    for tanque, litros in combustible.items():\n",
    "        main_report += f\"tanque {tanque}  = {litros} litros\\n    \"\n",
    "    return main_report\n",
    "\n",
    "print(informe_preciso(\"Marte\", 8, 11, 60, interno= 30000, externo= 20000))"
   ]
  }
 ],
 "metadata": {
  "interpreter": {
   "hash": "0ee6089290a09dbc39b1251f0fe4a23083cbb5b27b000477759d23d171169237"
  },
  "kernelspec": {
   "display_name": "Python 3.10.2 64-bit",
   "language": "python",
   "name": "python3"
  },
  "language_info": {
   "codemirror_mode": {
    "name": "ipython",
    "version": 3
   },
   "file_extension": ".py",
   "mimetype": "text/x-python",
   "name": "python",
   "nbconvert_exporter": "python",
   "pygments_lexer": "ipython3",
   "version": "3.10.2"
  },
  "orig_nbformat": 4
 },
 "nbformat": 4,
 "nbformat_minor": 2
}
