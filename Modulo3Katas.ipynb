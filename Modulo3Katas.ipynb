{
 "cells": [
  {
   "cell_type": "markdown",
   "metadata": {},
   "source": [
    "# Un asteroide se acerca, y viaja a una velocidad de 49 km/s\n"
   ]
  },
  {
   "cell_type": "code",
   "execution_count": 9,
   "metadata": {},
   "outputs": [
    {
     "name": "stdout",
     "output_type": "stream",
     "text": [
      "ADVERTENCIA!!!\n"
     ]
    }
   ],
   "source": [
    "velocidadAsteroide = 49\n",
    "\n",
    "if velocidadAsteroide > 25:\n",
    "    print(\"ADVERTENCIA!!!\")\n",
    "else:\n",
    "    print(\"NO HAY PELIGRO\")"
   ]
  },
  {
   "cell_type": "markdown",
   "metadata": {},
   "source": [
    "# Hay uno que se dirige a la tierra ahora a una velocidad de 19 km/s!"
   ]
  },
  {
   "cell_type": "code",
   "execution_count": 10,
   "metadata": {},
   "outputs": [
    {
     "name": "stdout",
     "output_type": "stream",
     "text": [
      "No hay nada en el cielo\n"
     ]
    }
   ],
   "source": [
    "asteroide = 19\n",
    "\n",
    "if asteroide > 20:\n",
    "    print(\"Busquen un asteroide en el cielo\")\n",
    "elif asteroide == 20:\n",
    "    print(\"Busqune un asteroide en el cielo\")\n",
    "else:\n",
    "    print(\"No hay nada en el cielo\")\n",
    "\n"
   ]
  },
  {
   "cell_type": "markdown",
   "metadata": {},
   "source": [
    "\n"
   ]
  },
  {
   "cell_type": "code",
   "execution_count": 15,
   "metadata": {},
   "outputs": [
    {
     "name": "stdout",
     "output_type": "stream",
     "text": [
      "El asteroide se quemara cuando se acerque, no hay peligro\n"
     ]
    }
   ],
   "source": [
    "velocidadAsteroide = 10\n",
    "tamañoAsteroide = 20\n",
    "\n",
    "if tamañoAsteroide > 25 and velocidadAsteroide > 25:\n",
    "    print(\"Advertencia el asteroide hara mucho daño\")\n",
    "elif velocidadAsteroide >=20:\n",
    "    print(\"El asteroide producira un rayo de luz que todos podemos ver\")\n",
    "elif tamañoAsteroide < 25:\n",
    "    print(\"El asteroide se quemara cuando se acerque, no hay peligro\")\n",
    "else:\n",
    "    print(\"NO hay ningun peligro\")    \n",
    "\n",
    "\n",
    "\n",
    "\n",
    "    "
   ]
  }
 ],
 "metadata": {
  "interpreter": {
   "hash": "30295c5bec572e859485b1ffa5e89b8b3e2022ef6e3e739c1ac40f143a557caf"
  },
  "kernelspec": {
   "display_name": "Python 3.6.9 64-bit",
   "language": "python",
   "name": "python3"
  },
  "language_info": {
   "codemirror_mode": {
    "name": "ipython",
    "version": 3
   },
   "file_extension": ".py",
   "mimetype": "text/x-python",
   "name": "python",
   "nbconvert_exporter": "python",
   "pygments_lexer": "ipython3",
   "version": "3.8.10"
  },
  "orig_nbformat": 4
 },
 "nbformat": 4,
 "nbformat_minor": 2
}
