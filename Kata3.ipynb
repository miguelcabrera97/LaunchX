{
 "cells": [
  {
   "cell_type": "markdown",
   "metadata": {},
   "source": [
    "## Escribir declaraciones if, else, y elif"
   ]
  },
  {
   "cell_type": "markdown",
   "metadata": {},
   "source": [
    "## Problema No.1\n",
    "-Añadir el código necesario para crear una variable que guarde la velocidad del asteroide.\n",
    "\n",
    "-Escribe una expresión de prueba para calcular si necesita una advertencia.\n",
    "\n",
    "-Agregue las instrucciones que se ejecutarán si la expresión de prueba es true o false."
   ]
  },
  {
   "cell_type": "code",
   "execution_count": 4,
   "metadata": {},
   "outputs": [
    {
     "name": "stdout",
     "output_type": "stream",
     "text": [
      "¡Alerta! Un asteroide se acerca a la Tierra\n"
     ]
    }
   ],
   "source": [
    "velocidad_Asteroide = 49\n",
    "\n",
    "if velocidad_Asteroide > 25:\n",
    "    print(\"¡Alerta! Un asteroide se acerca a la Tierra\")\n",
    "else:\n",
    "    print(\"No hay peligro de nada\")"
   ]
  },
  {
   "cell_type": "markdown",
   "metadata": {},
   "source": [
    "## Problema No.2\n",
    "\n",
    "-Agrega el código para crear una variable para un asteroide que viaja a 19 km/s\n",
    "\n",
    "-Escribe varias expresiones de prueba para determinar si puedes ver el rayo de luz desde la tierra\n",
    "\n",
    "-Agrega las instrucciones que se ejecutarán si las expresiones de prueba son True o False"
   ]
  },
  {
   "cell_type": "code",
   "execution_count": 1,
   "metadata": {},
   "outputs": [
    {
     "name": "stdout",
     "output_type": "stream",
     "text": [
      "No hay nada que ver\n"
     ]
    }
   ],
   "source": [
    "velocidad_Asteroide = 19\n",
    "if velocidad_Asteroide  > 20:\n",
    "    print('Mira hacia el cielo, podras ver un rayo de luz!')\n",
    "elif velocidad_Asteroide  == 20:\n",
    "    print('Mira hacia el cielo, podras ver un rayo de luz!')\n",
    "else:\n",
    "    print('No hay nada que ver')"
   ]
  },
  {
   "cell_type": "markdown",
   "metadata": {},
   "source": [
    "## Problema No.3\n",
    "\n",
    "-Agrega el código para crear nuevas variables para la velocidad y el tamaño del asteroide\n",
    "\n",
    "-Para probar el código, prueba con varias velocidades y tamaños\n",
    "\n",
    "-Escribe varias expresiones de prueba o combinaciones de expresiones de prueba para determinar qué mensaje se debe enviar a Tierra."
   ]
  },
  {
   "cell_type": "code",
   "execution_count": 8,
   "metadata": {},
   "outputs": [
    {
     "name": "stdout",
     "output_type": "stream",
     "text": [
      "¡Alerta! Un asteroide se acerca a la Tierra\n"
     ]
    }
   ],
   "source": [
    "velocidad_Asteroide = 30\n",
    "tamano_Asteroide = 60\n",
    "\n",
    "if velocidad_Asteroide > 25 and tamano_Asteroide > 25:\n",
    "    print('¡Alerta! Un asteroide se acerca a la Tierra')\n",
    "elif velocidad_Asteroide >= 20:\n",
    "    print('Mira hacia el cielo, podras ver una luz magica!')\n",
    "elif tamano_Asteroide < 25:\n",
    "    print('No hay nada que ver)')\n",
    "else:\n",
    "    print('No hay nada que ver)')"
   ]
  }
 ],
 "metadata": {
  "interpreter": {
   "hash": "0ee6089290a09dbc39b1251f0fe4a23083cbb5b27b000477759d23d171169237"
  },
  "kernelspec": {
   "display_name": "Python 3.10.2 64-bit",
   "language": "python",
   "name": "python3"
  },
  "language_info": {
   "codemirror_mode": {
    "name": "ipython",
    "version": 3
   },
   "file_extension": ".py",
   "mimetype": "text/x-python",
   "name": "python",
   "nbconvert_exporter": "python",
   "pygments_lexer": "ipython3",
   "version": "3.10.2"
  },
  "orig_nbformat": 4
 },
 "nbformat": 4,
 "nbformat_minor": 2
}
