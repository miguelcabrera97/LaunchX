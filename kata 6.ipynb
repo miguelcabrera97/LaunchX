{
 "cells": [
  {
   "cell_type": "markdown",
   "metadata": {},
   "source": [
    "## Ejercicio1: Crear y usar listas de Python\n",
    "Ejercicio: Usar listas para almacenar nombres de planetas\n",
    "Las listas permiten almacenar varios valores en una sola variable. Comenzarás un proyecto sobre información planetaria creando una lista de planetas."
   ]
  },
  {
   "cell_type": "code",
   "execution_count": 1,
   "metadata": {},
   "outputs": [
    {
     "name": "stdout",
     "output_type": "stream",
     "text": [
      "Ellos son 8 planetas\n"
     ]
    }
   ],
   "source": [
    "planetas = ['Mercurio', 'Venus', 'tierra', 'Marte', 'Jupiter', 'Saturno', 'Urano', 'Neptuno']\n",
    "\n",
    "print('Ellos son', len(planetas), 'planetas')"
   ]
  },
  {
   "cell_type": "code",
   "execution_count": 2,
   "metadata": {},
   "outputs": [
    {
     "name": "stdout",
     "output_type": "stream",
     "text": [
      "Pluton es el ultimo\n"
     ]
    }
   ],
   "source": [
    "planetas.append('Pluton')\n",
    "\n",
    "print(planetas[-1], 'es el ultimo')"
   ]
  },
  {
   "cell_type": "markdown",
   "metadata": {},
   "source": [
    "## Ejercicio 2: Trabajando con datos de una lista\n",
    "Usar slices para recuperar partes de una lista"
   ]
  },
  {
   "cell_type": "code",
   "execution_count": null,
   "metadata": {},
   "outputs": [],
   "source": [
    "planetas = ['Mercurio', 'Venus', 'tierra', 'Marte', 'Jupiter', 'Saturno', 'Urano', 'Neptuno']"
   ]
  },
  {
   "cell_type": "code",
   "execution_count": 3,
   "metadata": {},
   "outputs": [],
   "source": [
    "planeta_usuario = input(\"Ingresa un planeta\") "
   ]
  },
  {
   "cell_type": "code",
   "execution_count": 4,
   "metadata": {},
   "outputs": [],
   "source": [
    "planeta_busqueda = planetas.index(planeta_usuario)"
   ]
  },
  {
   "cell_type": "code",
   "execution_count": 5,
   "metadata": {},
   "outputs": [
    {
     "name": "stdout",
     "output_type": "stream",
     "text": [
      "Aqui estas los planetas mas cercanos al soltierra\n",
      "['Mercurio', 'Venus']\n"
     ]
    }
   ],
   "source": [
    "print('Aqui estas los planetas mas cercanos al sol' + planeta_usuario)\n",
    "print(planetas[0:planeta_busqueda])"
   ]
  },
  {
   "cell_type": "code",
   "execution_count": 7,
   "metadata": {},
   "outputs": [
    {
     "name": "stdout",
     "output_type": "stream",
     "text": [
      "Aqui estas los planetas mas lejanos al sol tierra\n",
      "['Marte', 'Jupiter', 'Saturno', 'Urano', 'Neptuno', 'Pluton']\n"
     ]
    }
   ],
   "source": [
    "print('Aqui estas los planetas mas lejanos al sol ' + planeta_usuario)\n",
    "print(planetas[planeta_busqueda + 1:])"
   ]
  }
 ],
 "metadata": {
  "interpreter": {
   "hash": "9365cbc28173fad665ab8fcc08992d1d8cc1740c5acd25e0c70ca505a1aa88e3"
  },
  "kernelspec": {
   "display_name": "Python 3.9.10 64-bit (windows store)",
   "language": "python",
   "name": "python3"
  },
  "language_info": {
   "codemirror_mode": {
    "name": "ipython",
    "version": 3
   },
   "file_extension": ".py",
   "mimetype": "text/x-python",
   "name": "python",
   "nbconvert_exporter": "python",
   "pygments_lexer": "ipython3",
   "version": "3.9.10"
  },
  "orig_nbformat": 4
 },
 "nbformat": 4,
 "nbformat_minor": 2
}
